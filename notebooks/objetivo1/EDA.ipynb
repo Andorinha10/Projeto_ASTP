{
 "cells": [
  {
   "cell_type": "markdown",
   "id": "bf9bf9fb",
   "metadata": {},
   "source": [
    "# 📈 ASTP – Projeto Final\n",
    "## Previsão de atrasos e cancelamentos de voos nos Estados Unidos, com base em fatores meteorológicos\n",
    "\n",
    "### 👥 Grupo XX\n",
    "- **Pedro Fonte Santa**, nº 105306  \n",
    "- **Rafael Alexandre Dias Andorinha**, nº 131000  \n",
    "- **[Nome do Terceiro Elemento]**, nº [Número de Aluno]  \n",
    "\n",
    "---\n",
    "\n",
    "📅 **Data de entrega:** 19 de maio de 2025  \n",
    "\n",
    "📊 **Objetivo deste notebook:**\n",
    "Realizar a Análise Exploratória de Dados (EDA) para duas séries temporais distintas:\n",
    "1. **Atrasos diários em Voos nos EUA**  \n",
    "2. **Eventos diários Climáticos nos EUA**\n",
    "\n",
    "A análise inclui:\n",
    "- Limpeza e preparação dos dados\n",
    "- Visualização e descrição das séries\n",
    "- Identificação de padrões (tendência, sazonalidade, ruído, quebras)\n",
    "- Aplicação de testes estatísticos (normalidade, estacionariedade e independência)\n",
    "\n",
    "---\n",
    "\n",
    "### 🗂️ Datasets:\n",
    "- [Previsão de estados de Voos (Kaggle)](https://www.kaggle.com/datasets/robikscube/flight-delay-dataset-20182022/data?select=raw)  \n",
    "- [Eventos Climáticos nos EUA (Kaggle)](https://www.kaggle.com/datasets/sobhanmoosavi/us-weather-events/data)\n"
   ]
  },
  {
   "cell_type": "code",
   "execution_count": null,
   "id": "ba679b9f",
   "metadata": {
    "vscode": {
     "languageId": "plaintext"
    }
   },
   "outputs": [],
   "source": []
  }
 ],
 "metadata": {
  "language_info": {
   "name": "python"
  }
 },
 "nbformat": 4,
 "nbformat_minor": 5
}
